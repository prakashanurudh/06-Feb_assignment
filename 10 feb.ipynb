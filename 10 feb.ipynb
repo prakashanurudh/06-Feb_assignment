{
 "cells": [
  {
   "cell_type": "markdown",
   "id": "3e208c22-ab7a-4012-9f06-fe57e08848aa",
   "metadata": {},
   "source": [
    "Q1. Which function is used to open a file? What are the different modes of opening a file? Explain each mode\n",
    "of file opening."
   ]
  },
  {
   "cell_type": "markdown",
   "id": "82081747-cdf3-4df9-86fe-d938f469f270",
   "metadata": {},
   "source": [
    "Ans.open function is used to open the file it takes two argument that is passed over function first argument is name of file in the form of string and second argument is mode of file in the form of string if we using open function with open there is no need to close the file.\n",
    "let us take example of File name-file.txt and mode is \n"
   ]
  },
  {
   "cell_type": "code",
   "execution_count": null,
   "id": "838abea4-21fb-4dd2-821f-cd940d347b3e",
   "metadata": {},
   "outputs": [],
   "source": [
    "f=open(\"file.txt\",\"r\")\n",
    "with open(\"file.txt\",\"r\")"
   ]
  },
  {
   "cell_type": "markdown",
   "id": "14840f84-c369-4146-bf71-27097a3649e5",
   "metadata": {},
   "source": [
    "there are several modes of open file \n",
    "1. r: in this mode file should exist if not it raise error of file not found syntax is f=open(\"file.txt\",\"r\")\n",
    "\n",
    "\n",
    "2. w: in this mode file data will truncate(clear) file data before writing on them its syntax is f=open(\"file.txt\",\"w\")\n",
    "   \n",
    "   \n",
    "3. a: in this mode it creates file if  does not exist and write it won't override data exixting data its syntax is f=open(\"file.txt\",\"a\")\n",
    "\n",
    "\n",
    "4. r+:  To read and write data into the file. The previous data in the file will be overridden synatx is f=open(\"file.txt\",\"r+\")\n",
    "\n",
    "\n",
    "5. w+: To write and read data. It will override existing data syntax is f=open(\"file.txt\",\"w+\")\n",
    "\n",
    "\n",
    "6. a+: To append and read data from the file. It won’t override existing data synatx is f=open(\"file.txt\",\"a\") \n",
    "\n"
   ]
  },
  {
   "cell_type": "code",
   "execution_count": null,
   "id": "cb3fd1bd-14a9-4bef-95c8-5baa27538516",
   "metadata": {},
   "outputs": [],
   "source": []
  },
  {
   "cell_type": "markdown",
   "id": "9f265d67-3d17-4de7-8189-1bfc537fa777",
   "metadata": {},
   "source": [
    "Q2. Why close() function is used? Why is it important to close a file?"
   ]
  },
  {
   "cell_type": "markdown",
   "id": "6f701adf-5475-4bb6-9072-5062d339970c",
   "metadata": {},
   "source": [
    "Ans. 1.  Files are actually a limited resource that are managed not by the language, but the OS itself. Without closing them we may risk reaching and          causing problems with the continued operation of the program. Too many open files will also impact program performance due to                          increased demand on RAM and other OS resources.\n",
    "    2.   Files left unintentionally open become vulnerable to loss of data. If the program or computer crashes unexpectedly, any open files may                not be  recovered despite the OS & languages best efforts to protect data. \n",
    "    3.   Any changes to files done will not be readable until after the files are closed. The OS puts a lock on the open file until closed, thus                useful  applications such as AV scans on files may be hindered. \n",
    "     Finally, it's not best-practice coding style. To limit the amount of potential debugging, and other code issues, remember to close your files. "
   ]
  },
  {
   "cell_type": "markdown",
   "id": "5be23e85-1271-471f-ba4a-f9efadbc8b7e",
   "metadata": {},
   "source": []
  },
  {
   "cell_type": "markdown",
   "id": "e607266a-42eb-4954-b439-edd26feb6fac",
   "metadata": {},
   "source": [
    "Q3. Write a python program to create a text file. Write ‘I want to become a Data Scientist’ in that file. Then \n",
    "close the file. Open this file and read the content of the file. "
   ]
  },
  {
   "cell_type": "code",
   "execution_count": 9,
   "id": "e43318ad-1464-4515-a026-61fdbab480d3",
   "metadata": {},
   "outputs": [],
   "source": [
    "f=open(\"file.txt\",\"w\")\n",
    "writer=f.write(\"I want to become a Data Scientist\")\n",
    "f.close()\n"
   ]
  },
  {
   "cell_type": "code",
   "execution_count": 10,
   "id": "ccda7d36-b6eb-42fd-8d7d-377d3a5b6485",
   "metadata": {},
   "outputs": [
    {
     "name": "stdout",
     "output_type": "stream",
     "text": [
      "I want to become a Data Scientist\n"
     ]
    }
   ],
   "source": [
    "f=open(\"file.txt\",\"r\")\n",
    "print(f.read())\n",
    "f.close()\n"
   ]
  },
  {
   "cell_type": "code",
   "execution_count": null,
   "id": "305b018b-25c9-448c-b091-605e81752209",
   "metadata": {},
   "outputs": [],
   "source": []
  },
  {
   "cell_type": "markdown",
   "id": "648904c8-a51c-4947-816e-17930e98bddb",
   "metadata": {},
   "source": [
    "Q4. Explain the following with python code: read(), readline() and readlines()"
   ]
  },
  {
   "cell_type": "markdown",
   "id": "d9d8a14a-cbd8-4870-bfb2-1e628bd3a2a9",
   "metadata": {},
   "source": [
    "read()= this function read the loaded file in the form of string\n",
    "readline()= this function read the data line by line in the form of string  \n",
    "readlines()= this function read the whole file line by line return in the form of list ,it is also used for reading specific lines "
   ]
  },
  {
   "cell_type": "markdown",
   "id": "2ccbd297-b9d8-49e8-9ccb-95b0bdce4063",
   "metadata": {},
   "source": [
    "Q5. Explain why with statement is used with open(). What is the advantage of using with statement and \n",
    "    open() together?"
   ]
  },
  {
   "cell_type": "markdown",
   "id": "54e9c5de-5f8a-42a8-9120-49c76f6a6f33",
   "metadata": {},
   "source": [
    "Ans “with statement” with open() function, an execution blocked started and the file object returned by open() function is assigned to file_object. When this execution block of “with statement” end, then the file object’s close function gets called automatically, and the file will be closed gracefully. We don’t need to manually call the close() function anymore if we are using “with statement”\n",
    " Benifits of with open statement \n",
    " 1 No need to close the file\n",
    " 2 Fewer chances of bug due to coding error\n",
    " 3 Excellent handling in case of exception"
   ]
  },
  {
   "cell_type": "markdown",
   "id": "f6aac6ed-2484-4439-bc0d-217f7f4ed819",
   "metadata": {},
   "source": [
    "Q6. Explain the write() and writelines() functions. Give a suitable example."
   ]
  },
  {
   "cell_type": "markdown",
   "id": "8ac8dcc0-45d4-404f-b792-765d589943ac",
   "metadata": {},
   "source": [
    "Ans  write()-Writes string content referenced by file object.\n",
    "             file_name.write(content) "
   ]
  },
  {
   "cell_type": "code",
   "execution_count": 11,
   "id": "54d54cb8-ef02-48f4-b145-6bef998370a9",
   "metadata": {},
   "outputs": [],
   "source": [
    "##code for write()\n",
    "f=open(\"write.txt\",\"w\")\n",
    "writer=f.write(\"this is data science programme \")\n",
    "f.close()\n",
    "\n"
   ]
  },
  {
   "cell_type": "markdown",
   "id": "9e56caac-901f-4c66-bfa5-982a1f8ba913",
   "metadata": {},
   "source": [
    " writelines()-write all the strings present in the list \"list_of_lines\" \n",
    "              referenced by file object.\n",
    "file_name.writelines(list_of_lines)"
   ]
  },
  {
   "cell_type": "code",
   "execution_count": 13,
   "id": "fe472b8e-c2f1-46c2-b23a-1f0c121b984b",
   "metadata": {},
   "outputs": [],
   "source": [
    "##code for writelines()\n",
    "f=open(\"writelines.txt\",\"w\")\n",
    "l=[\"anu\",\"sibhu\",\"tanu\"]\n",
    "writer=f.writelines(l)\n",
    "f.close()\n",
    "\n"
   ]
  },
  {
   "cell_type": "code",
   "execution_count": null,
   "id": "ce09ea2d-bd18-4aea-9f2d-2939d39c3055",
   "metadata": {},
   "outputs": [],
   "source": []
  }
 ],
 "metadata": {
  "kernelspec": {
   "display_name": "Python 3 (ipykernel)",
   "language": "python",
   "name": "python3"
  },
  "language_info": {
   "codemirror_mode": {
    "name": "ipython",
    "version": 3
   },
   "file_extension": ".py",
   "mimetype": "text/x-python",
   "name": "python",
   "nbconvert_exporter": "python",
   "pygments_lexer": "ipython3",
   "version": "3.10.8"
  }
 },
 "nbformat": 4,
 "nbformat_minor": 5
}
